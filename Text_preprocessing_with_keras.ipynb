{
  "nbformat": 4,
  "nbformat_minor": 0,
  "metadata": {
    "colab": {
      "name": "Text preprocessing with keras.ipynb",
      "provenance": [],
      "collapsed_sections": []
    },
    "kernelspec": {
      "name": "python3",
      "display_name": "Python 3"
    }
  },
  "cells": [
    {
      "cell_type": "code",
      "metadata": {
        "id": "8GyIEFlUf_q_",
        "outputId": "ac6ff5a1-249c-45a3-92fc-61962d8ad577",
        "colab": {
          "base_uri": "https://localhost:8080/",
          "height": 275
        }
      },
      "source": [
        "import pandas as pd\n",
        "import csv\n",
        "import os\n",
        "from keras.preprocessing.text import text_to_word_sequence\n",
        "import pandas as pd\n",
        "import tensorflow as tf\n",
        "from keras.preprocessing.text import Tokenizer\n",
        "import numpy as np\n",
        "from __future__ import print_function\n",
        "from keras.preprocessing import sequence\n",
        "from io import StringIO\n",
        "import nltk \n",
        "from nltk.corpus import stopwords\n",
        "import re\n",
        "from nltk.tokenize import word_tokenize\n",
        "from nltk.stem import WordNetLemmatizer,PorterStemmer\n",
        "import matplotlib.pyplot as plt\n",
        "\n",
        "from sklearn.feature_extraction.text import CountVectorizer, TfidfVectorizer \n",
        "from sklearn.model_selection import train_test_split\n",
        "\n",
        "from keras.preprocessing import sequence\n",
        "from keras.models import Sequential\n",
        "from keras.layers import Dense, Dropout, Activation\n",
        "from keras.layers import Embedding\n",
        "from keras.layers import Conv1D, GlobalMaxPooling1D,MaxPooling1D, Bidirectional,LSTM, SpatialDropout1D\n",
        "!pip install keras-lookahead\n",
        "from keras_lookahead import Lookahead\n",
        "\n",
        "nltk.download('stopwords')\n",
        "nltk.download('punkt')\n",
        "nltk.download('wordnet')"
      ],
      "execution_count": 25,
      "outputs": [
        {
          "output_type": "stream",
          "text": [
            "Requirement already satisfied: keras-lookahead in /usr/local/lib/python3.6/dist-packages (0.9.0)\n",
            "Requirement already satisfied: Keras in /usr/local/lib/python3.6/dist-packages (from keras-lookahead) (2.4.3)\n",
            "Requirement already satisfied: numpy in /usr/local/lib/python3.6/dist-packages (from keras-lookahead) (1.18.5)\n",
            "Requirement already satisfied: pyyaml in /usr/local/lib/python3.6/dist-packages (from Keras->keras-lookahead) (3.13)\n",
            "Requirement already satisfied: h5py in /usr/local/lib/python3.6/dist-packages (from Keras->keras-lookahead) (2.10.0)\n",
            "Requirement already satisfied: scipy>=0.14 in /usr/local/lib/python3.6/dist-packages (from Keras->keras-lookahead) (1.4.1)\n",
            "Requirement already satisfied: six in /usr/local/lib/python3.6/dist-packages (from h5py->Keras->keras-lookahead) (1.15.0)\n",
            "[nltk_data] Downloading package stopwords to /root/nltk_data...\n",
            "[nltk_data]   Package stopwords is already up-to-date!\n",
            "[nltk_data] Downloading package punkt to /root/nltk_data...\n",
            "[nltk_data]   Package punkt is already up-to-date!\n",
            "[nltk_data] Downloading package wordnet to /root/nltk_data...\n",
            "[nltk_data]   Package wordnet is already up-to-date!\n"
          ],
          "name": "stdout"
        },
        {
          "output_type": "execute_result",
          "data": {
            "text/plain": [
              "True"
            ]
          },
          "metadata": {
            "tags": []
          },
          "execution_count": 25
        }
      ]
    },
    {
      "cell_type": "code",
      "metadata": {
        "id": "G8CsrPuxgHzA",
        "outputId": "b00db88b-e3f8-4059-dcb4-32f08464ac74",
        "colab": {
          "base_uri": "https://localhost:8080/",
          "height": 221
        }
      },
      "source": [
        "#Load the data csv from google drive\n",
        "review_data = pd.read_csv('/content/tripadvisor_hotel_reviews.csv')\n",
        "print(review_data.shape)\n",
        "review_data.head()"
      ],
      "execution_count": 26,
      "outputs": [
        {
          "output_type": "stream",
          "text": [
            "(20491, 2)\n"
          ],
          "name": "stdout"
        },
        {
          "output_type": "execute_result",
          "data": {
            "text/html": [
              "<div>\n",
              "<style scoped>\n",
              "    .dataframe tbody tr th:only-of-type {\n",
              "        vertical-align: middle;\n",
              "    }\n",
              "\n",
              "    .dataframe tbody tr th {\n",
              "        vertical-align: top;\n",
              "    }\n",
              "\n",
              "    .dataframe thead th {\n",
              "        text-align: right;\n",
              "    }\n",
              "</style>\n",
              "<table border=\"1\" class=\"dataframe\">\n",
              "  <thead>\n",
              "    <tr style=\"text-align: right;\">\n",
              "      <th></th>\n",
              "      <th>Review</th>\n",
              "      <th>Rating</th>\n",
              "    </tr>\n",
              "  </thead>\n",
              "  <tbody>\n",
              "    <tr>\n",
              "      <th>0</th>\n",
              "      <td>nice hotel expensive parking got good deal sta...</td>\n",
              "      <td>4</td>\n",
              "    </tr>\n",
              "    <tr>\n",
              "      <th>1</th>\n",
              "      <td>ok nothing special charge diamond member hilto...</td>\n",
              "      <td>2</td>\n",
              "    </tr>\n",
              "    <tr>\n",
              "      <th>2</th>\n",
              "      <td>nice rooms not 4* experience hotel monaco seat...</td>\n",
              "      <td>3</td>\n",
              "    </tr>\n",
              "    <tr>\n",
              "      <th>3</th>\n",
              "      <td>unique, great stay, wonderful time hotel monac...</td>\n",
              "      <td>5</td>\n",
              "    </tr>\n",
              "    <tr>\n",
              "      <th>4</th>\n",
              "      <td>great stay great stay, went seahawk game aweso...</td>\n",
              "      <td>5</td>\n",
              "    </tr>\n",
              "  </tbody>\n",
              "</table>\n",
              "</div>"
            ],
            "text/plain": [
              "                                              Review  Rating\n",
              "0  nice hotel expensive parking got good deal sta...       4\n",
              "1  ok nothing special charge diamond member hilto...       2\n",
              "2  nice rooms not 4* experience hotel monaco seat...       3\n",
              "3  unique, great stay, wonderful time hotel monac...       5\n",
              "4  great stay great stay, went seahawk game aweso...       5"
            ]
          },
          "metadata": {
            "tags": []
          },
          "execution_count": 26
        }
      ]
    },
    {
      "cell_type": "code",
      "metadata": {
        "id": "Zp8WIosc1M-k",
        "outputId": "37d6133f-55ef-4d65-82a2-9112c9fd1714",
        "colab": {
          "base_uri": "https://localhost:8080/",
          "height": 51
        }
      },
      "source": [
        "review_data['Review'].replace(' ', np.nan, inplace=True)\n",
        "print(review_data['Review'].isnull().sum())\n",
        "review_data['Rating'].replace(' ', np.nan, inplace=True)\n",
        "print(review_data['Rating'].isnull().sum())"
      ],
      "execution_count": 27,
      "outputs": [
        {
          "output_type": "stream",
          "text": [
            "0\n",
            "0\n"
          ],
          "name": "stdout"
        }
      ]
    },
    {
      "cell_type": "code",
      "metadata": {
        "id": "epFimcuLr8YS",
        "outputId": "e4da3b28-56be-4b0f-8aa5-97305622056b",
        "colab": {
          "base_uri": "https://localhost:8080/",
          "height": 69
        }
      },
      "source": [
        "review_data.Review[10]"
      ],
      "execution_count": 28,
      "outputs": [
        {
          "output_type": "execute_result",
          "data": {
            "application/vnd.google.colaboratory.intrinsic+json": {
              "type": "string"
            },
            "text/plain": [
              "\"poor value stayed monaco seattle july, nice hotel priced 100- 150 night not, hotel takes beating quotient, experience simply average, nothing exceptional paying 300+ n't ca n't terribly disappointed, wife stayed nicest suites 200/night felt like overpaying, best advice shop, quality-wise league average marriott nice best western,  \""
            ]
          },
          "metadata": {
            "tags": []
          },
          "execution_count": 28
        }
      ]
    },
    {
      "cell_type": "code",
      "metadata": {
        "id": "kqErAmCLhvb4",
        "outputId": "394a3d20-34cc-424f-9e8b-c1f2d5761b69",
        "colab": {
          "base_uri": "https://localhost:8080/",
          "height": 170
        }
      },
      "source": [
        "review_data.info()"
      ],
      "execution_count": 29,
      "outputs": [
        {
          "output_type": "stream",
          "text": [
            "<class 'pandas.core.frame.DataFrame'>\n",
            "RangeIndex: 20491 entries, 0 to 20490\n",
            "Data columns (total 2 columns):\n",
            " #   Column  Non-Null Count  Dtype \n",
            "---  ------  --------------  ----- \n",
            " 0   Review  20491 non-null  object\n",
            " 1   Rating  20491 non-null  int64 \n",
            "dtypes: int64(1), object(1)\n",
            "memory usage: 320.3+ KB\n"
          ],
          "name": "stdout"
        }
      ]
    },
    {
      "cell_type": "markdown",
      "metadata": {
        "id": "CDdDVUljZqY2"
      },
      "source": [
        "Text preprocessing with general cleaning, stemming and Lemmatizing"
      ]
    },
    {
      "cell_type": "code",
      "metadata": {
        "id": "dMzVggSPnfSQ"
      },
      "source": [
        "REPLACE_BY_SPACE_RE = re.compile('[/(){}\\[\\]\\|@,;]')\n",
        "BAD_SYMBOLS_RE = re.compile('[^0-9a-z #+_]')\n",
        "STOPWORDS = set(stopwords.words('english'))\n",
        "\n",
        "def clean_text(text):\n",
        "    text = text.lower() # lowercase text\n",
        "    text = REPLACE_BY_SPACE_RE.sub(' ', text) # replace REPLACE_BY_SPACE_RE symbols by space in text. substitute the matched string in REPLACE_BY_SPACE_RE with space.\n",
        "    text = BAD_SYMBOLS_RE.sub('', text) # remove symbols which are in BAD_SYMBOLS_RE from text. substitute the matched string in BAD_SYMBOLS_RE with nothing. \n",
        "    text = text.replace('x', '')\n",
        "    text = ' '.join(word for word in text.split() if word not in STOPWORDS) \n",
        "    return text\n",
        "\n",
        "review_data['Review'] = review_data['Review'].apply(clean_text)\n",
        "\n",
        "def getLemmText(text):\n",
        " tokens=word_tokenize(text)\n",
        " lemmatizer = WordNetLemmatizer()\n",
        " tokens=[lemmatizer.lemmatize(word) for word in tokens]\n",
        " return ' '.join(tokens)\n",
        "review_data['Review'] = review_data['Review'].apply(getLemmText)\n",
        "\n",
        "\n",
        "def getStemmText(text):\n",
        "    tokens=word_tokenize(text)\n",
        "    ps = PorterStemmer()\n",
        "    tokens=[ps.stem(word) for word in tokens]\n",
        "    return ' '.join(tokens)\n",
        "review_data['Review'] = review_data['Review'].apply(getStemmText)\n"
      ],
      "execution_count": 30,
      "outputs": []
    },
    {
      "cell_type": "code",
      "metadata": {
        "id": "ith0444GsUdX",
        "outputId": "29d2d0a4-a16e-43ae-dec2-349a743483a8",
        "colab": {
          "base_uri": "https://localhost:8080/",
          "height": 69
        }
      },
      "source": [
        "review_data.Review[10]"
      ],
      "execution_count": 31,
      "outputs": [
        {
          "output_type": "execute_result",
          "data": {
            "application/vnd.google.colaboratory.intrinsic+json": {
              "type": "string"
            },
            "text/plain": [
              "'poor valu stay monaco seattl juli nice hotel price 100 150 night hotel take beat quotient eperi simpli averag noth ecept pay 300+ nt ca nt terribl disappoint wife stay nicest suit 200 night felt like overpay best advic shop qualitywis leagu averag marriott nice best western'"
            ]
          },
          "metadata": {
            "tags": []
          },
          "execution_count": 31
        }
      ]
    },
    {
      "cell_type": "code",
      "metadata": {
        "id": "Wslln1EroOTi",
        "outputId": "96132954-ec4c-47b8-fc99-aa9dd0cb5881",
        "colab": {
          "base_uri": "https://localhost:8080/",
          "height": 34
        }
      },
      "source": [
        "review_data['Rating'].unique()\n",
        "#5 categories of rating"
      ],
      "execution_count": 32,
      "outputs": [
        {
          "output_type": "execute_result",
          "data": {
            "text/plain": [
              "array([4, 2, 3, 5, 1])"
            ]
          },
          "metadata": {
            "tags": []
          },
          "execution_count": 32
        }
      ]
    },
    {
      "cell_type": "code",
      "metadata": {
        "id": "jIFFdlJNgzq7"
      },
      "source": [
        "#Tokenize the words, remove the symblos\n",
        "#Convert the words to integers ising 'text to sequence'\n",
        "tk = Tokenizer(num_words= 50000, filters = '!\"#$%&()*+,-./:;<=>?@[\\\\]^_`{|}~\\t\\n',lower=True, split=\" \",)\n",
        "tk.fit_on_texts(review_data['Review'])\n",
        "x = tk.texts_to_sequences(review_data['Review'])"
      ],
      "execution_count": 33,
      "outputs": []
    },
    {
      "cell_type": "code",
      "metadata": {
        "id": "Py7LTMI4hhrt"
      },
      "source": [
        "#Encoding the integers using pad sequence \n",
        "#Adjust the number of words using maxlen based on word frequency \n",
        "X = sequence.pad_sequences(x, maxlen=200)"
      ],
      "execution_count": 34,
      "outputs": []
    },
    {
      "cell_type": "code",
      "metadata": {
        "id": "LbK-_89ihqfv"
      },
      "source": [
        "#Y = review_data['Rating'].values\n",
        "Y = pd.get_dummies(review_data.Rating)"
      ],
      "execution_count": 35,
      "outputs": []
    },
    {
      "cell_type": "code",
      "metadata": {
        "id": "pN23p_fxwi0W"
      },
      "source": [
        "#X_train,X_test,Y_train,Y_test = train_test_split(X,Y,test_size=0.15)"
      ],
      "execution_count": 36,
      "outputs": []
    },
    {
      "cell_type": "code",
      "metadata": {
        "id": "Ap3Itf7pvafj",
        "outputId": "a796be63-29fc-412d-e0aa-ad5fb702ab8a",
        "colab": {
          "base_uri": "https://localhost:8080/",
          "height": 34
        }
      },
      "source": [
        "#Y_train = np.reshape(Y_train, (Y_train.shape[0], 1))\n",
        "print(X_train.shape, Y_train.shape)"
      ],
      "execution_count": 37,
      "outputs": [
        {
          "output_type": "stream",
          "text": [
            "(17417, 200) (17417, 5)\n"
          ],
          "name": "stdout"
        }
      ]
    },
    {
      "cell_type": "code",
      "metadata": {
        "id": "kiWRfN2vyYve",
        "outputId": "5f734d64-3178-470e-c1f8-1c888d422e2f",
        "colab": {
          "base_uri": "https://localhost:8080/",
          "height": 921
        }
      },
      "source": [
        "max_features = 50000\n",
        "filters = 250\n",
        "hidden_dims = 250\n",
        "kernel_size = 2\n",
        "dropout = 0.2\n",
        "\n",
        "#Let us try using the Lookahead optimiser with Adam as the inner optimiser\n",
        "opt = tf.keras.optimizers.Adam(lr=0.001, beta_1=0.9, beta_2=0.999, epsilon=None, decay=1e-6, amsgrad=False)\n",
        "lk = Lookahead(opt, sync_period=5, slow_step=0.5, name = 'Lookahead')\n",
        "\n",
        "model = Sequential()\n",
        "model.add(Embedding(max_features,200,input_length=X_train.shape[1]))\n",
        "model.add(SpatialDropout1D(0.3))\n",
        "model.add(Conv1D(128,2, strides=1, padding='valid'))\n",
        "model.add(MaxPooling1D(2,2))\n",
        "model.add(Conv1D(256,2, strides=1, padding='valid'))\n",
        "model.add(MaxPooling1D(2,2))\n",
        "model.add(Bidirectional(LSTM(100, dropout=dropout)))\n",
        "model.add(Dropout(0.3))\n",
        "#model.add(LSTM(250, dropout=dropout))\n",
        "#model.add(Dropout(0.3))\n",
        "model.add(Dense(hidden_dims))\n",
        "model.add(Dropout(0.2))\n",
        "model.add(Dense(5))\n",
        "model.add(Activation('softmax'))\n",
        "\n",
        "model.compile(loss='categorical_crossentropy',\n",
        "              optimizer=lk.optimizer,\n",
        "              metrics=['accuracy'])\n",
        "model.summary()\n",
        "history = model.fit(X_train,Y_train,\n",
        "          batch_size=32,\n",
        "          epochs=10,validation_data = (X_test, Y_test)\n",
        "          )"
      ],
      "execution_count": 38,
      "outputs": [
        {
          "output_type": "stream",
          "text": [
            "Model: \"sequential_6\"\n",
            "_________________________________________________________________\n",
            "Layer (type)                 Output Shape              Param #   \n",
            "=================================================================\n",
            "embedding_6 (Embedding)      (None, 200, 200)          10000000  \n",
            "_________________________________________________________________\n",
            "spatial_dropout1d_6 (Spatial (None, 200, 200)          0         \n",
            "_________________________________________________________________\n",
            "conv1d_7 (Conv1D)            (None, 199, 128)          51328     \n",
            "_________________________________________________________________\n",
            "max_pooling1d_7 (MaxPooling1 (None, 99, 128)           0         \n",
            "_________________________________________________________________\n",
            "conv1d_8 (Conv1D)            (None, 98, 256)           65792     \n",
            "_________________________________________________________________\n",
            "max_pooling1d_8 (MaxPooling1 (None, 49, 256)           0         \n",
            "_________________________________________________________________\n",
            "bidirectional_6 (Bidirection (None, 200)               285600    \n",
            "_________________________________________________________________\n",
            "dropout_12 (Dropout)         (None, 200)               0         \n",
            "_________________________________________________________________\n",
            "dense_12 (Dense)             (None, 250)               50250     \n",
            "_________________________________________________________________\n",
            "dropout_13 (Dropout)         (None, 250)               0         \n",
            "_________________________________________________________________\n",
            "dense_13 (Dense)             (None, 5)                 1255      \n",
            "_________________________________________________________________\n",
            "activation_6 (Activation)    (None, 5)                 0         \n",
            "=================================================================\n",
            "Total params: 10,454,225\n",
            "Trainable params: 10,454,225\n",
            "Non-trainable params: 0\n",
            "_________________________________________________________________\n",
            "Epoch 1/10\n",
            "513/513 [==============================] - 200s 390ms/step - loss: 1.0474 - accuracy: 0.5386 - val_loss: 0.8736 - val_accuracy: 0.6021\n",
            "Epoch 2/10\n",
            "513/513 [==============================] - 197s 383ms/step - loss: 0.7599 - accuracy: 0.6729 - val_loss: 0.8652 - val_accuracy: 0.6206\n",
            "Epoch 3/10\n",
            "513/513 [==============================] - 204s 397ms/step - loss: 0.5723 - accuracy: 0.7681 - val_loss: 1.0562 - val_accuracy: 0.5999\n",
            "Epoch 4/10\n",
            "513/513 [==============================] - 196s 382ms/step - loss: 0.4079 - accuracy: 0.8432 - val_loss: 1.2386 - val_accuracy: 0.5848\n",
            "Epoch 5/10\n",
            "513/513 [==============================] - 197s 384ms/step - loss: 0.2818 - accuracy: 0.8959 - val_loss: 1.3936 - val_accuracy: 0.5809\n",
            "Epoch 6/10\n",
            "513/513 [==============================] - 203s 395ms/step - loss: 0.1956 - accuracy: 0.9287 - val_loss: 1.5530 - val_accuracy: 0.5636\n",
            "Epoch 7/10\n",
            "513/513 [==============================] - 198s 386ms/step - loss: 0.1530 - accuracy: 0.9450 - val_loss: 1.6771 - val_accuracy: 0.5684\n",
            "Epoch 8/10\n",
            "513/513 [==============================] - 201s 393ms/step - loss: 0.1164 - accuracy: 0.9602 - val_loss: 1.8761 - val_accuracy: 0.5782\n",
            "Epoch 9/10\n",
            "513/513 [==============================] - 206s 401ms/step - loss: 0.0906 - accuracy: 0.9686 - val_loss: 2.2698 - val_accuracy: 0.5714\n",
            "Epoch 10/10\n",
            "513/513 [==============================] - 197s 383ms/step - loss: 0.0950 - accuracy: 0.9668 - val_loss: 2.0619 - val_accuracy: 0.5599\n"
          ],
          "name": "stdout"
        }
      ]
    },
    {
      "cell_type": "code",
      "metadata": {
        "id": "j53FVzhr0ruc",
        "outputId": "83adbbfd-b813-4b8f-a513-7936a70a1df8",
        "colab": {
          "base_uri": "https://localhost:8080/",
          "height": 557
        }
      },
      "source": [
        "# Accuracy\n",
        "plt.plot(history.history['accuracy'], label='accuracy')\n",
        "plt.plot(history.history['val_accuracy'], label = 'val_accuracy')\n",
        "plt.xlabel('Epoch')\n",
        "plt.ylabel('Accuracy')\n",
        "plt.legend()\n",
        "plt.show()\n",
        "\n",
        "# Loss\n",
        "plt.plot(history.history['loss'], label = 'loss')\n",
        "plt.plot(history.history['val_loss'], label = 'val_loss')\n",
        "plt.title('loss')\n",
        "plt.xlabel('Epoch')\n",
        "plt.ylabel('Loss')\n",
        "plt.legend()\n",
        "plt.show()"
      ],
      "execution_count": 39,
      "outputs": [
        {
          "output_type": "display_data",
          "data": {
            "image/png": "[encoded data removed]",
            "text/plain": [
              "<Figure size 432x288 with 1 Axes>"
            ]
          },
          "metadata": {
            "tags": [],
            "needs_background": "light"
          }
        },
        {
          "output_type": "display_data",
          "data": {
            "image/png": "[encoded data removed]",
            "text/plain": [
              "<Figure size 432x288 with 1 Axes>"
            ]
          },
          "metadata": {
            "tags": [],
            "needs_background": "light"
          }
        }
      ]
    }
  ]
}