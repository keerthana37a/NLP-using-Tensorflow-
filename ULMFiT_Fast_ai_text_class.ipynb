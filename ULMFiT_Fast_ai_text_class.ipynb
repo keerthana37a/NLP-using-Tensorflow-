{
  "nbformat": 4,
  "nbformat_minor": 0,
  "metadata": {
    "colab": {
      "name": "ULMFiT_Fast.ai_text_class.ipynb",
      "provenance": [],
      "collapsed_sections": []
    },
    "kernelspec": {
      "name": "python3",
      "display_name": "Python 3"
    },
    "accelerator": "GPU"
  },
  "cells": [
    {
      "cell_type": "markdown",
      "metadata": {
        "id": "0BENmRZz5jQe"
      },
      "source": [
        ""
      ]
    },
    {
      "cell_type": "code",
      "metadata": {
        "id": "64LYZaYJ5j4n"
      },
      "source": [
        "#Reference: https://towardsdatascience.com/machine-learning-text-classification-language-modelling-using-fast-ai-b1b334f2872d"
      ],
      "execution_count": 1,
      "outputs": []
    },
    {
      "cell_type": "code",
      "metadata": {
        "id": "5IkU6bnHUWRK",
        "outputId": "7e177a64-f030-4749-9b23-515768df12dc",
        "colab": {
          "base_uri": "https://localhost:8080/",
          "height": 853
        }
      },
      "source": [
        "!pip install torch_nightly -f https://download.pytorch.org/whl/nightly/cu92/torch_nightly.html\n",
        "!pip install fastai"
      ],
      "execution_count": 2,
      "outputs": [
        {
          "output_type": "stream",
          "text": [
            "Looking in links: https://download.pytorch.org/whl/nightly/cu92/torch_nightly.html\n",
            "Collecting torch_nightly\n",
            "\u001b[?25l  Downloading https://download.pytorch.org/whl/nightly/cu92/torch_nightly-1.2.0.dev20190805%2Bcu92-cp36-cp36m-linux_x86_64.whl (704.8MB)\n",
            "\u001b[K     |████████████████████████████████| 704.8MB 26kB/s \n",
            "\u001b[?25hInstalling collected packages: torch-nightly\n",
            "Successfully installed torch-nightly-1.2.0.dev20190805+cu92\n",
            "Requirement already satisfied: fastai in /usr/local/lib/python3.6/dist-packages (1.0.61)\n",
            "Requirement already satisfied: fastprogress>=0.2.1 in /usr/local/lib/python3.6/dist-packages (from fastai) (1.0.0)\n",
            "Requirement already satisfied: beautifulsoup4 in /usr/local/lib/python3.6/dist-packages (from fastai) (4.6.3)\n",
            "Requirement already satisfied: numpy>=1.15 in /usr/local/lib/python3.6/dist-packages (from fastai) (1.18.5)\n",
            "Requirement already satisfied: dataclasses; python_version < \"3.7\" in /usr/local/lib/python3.6/dist-packages (from fastai) (0.7)\n",
            "Requirement already satisfied: pyyaml in /usr/local/lib/python3.6/dist-packages (from fastai) (3.13)\n",
            "Requirement already satisfied: requests in /usr/local/lib/python3.6/dist-packages (from fastai) (2.23.0)\n",
            "Requirement already satisfied: scipy in /usr/local/lib/python3.6/dist-packages (from fastai) (1.4.1)\n",
            "Requirement already satisfied: spacy>=2.0.18; python_version < \"3.8\" in /usr/local/lib/python3.6/dist-packages (from fastai) (2.2.4)\n",
            "Requirement already satisfied: packaging in /usr/local/lib/python3.6/dist-packages (from fastai) (20.4)\n",
            "Requirement already satisfied: Pillow in /usr/local/lib/python3.6/dist-packages (from fastai) (7.0.0)\n",
            "Requirement already satisfied: pandas in /usr/local/lib/python3.6/dist-packages (from fastai) (1.1.3)\n",
            "Requirement already satisfied: torch>=1.0.0 in /usr/local/lib/python3.6/dist-packages (from fastai) (1.6.0+cu101)\n",
            "Requirement already satisfied: torchvision in /usr/local/lib/python3.6/dist-packages (from fastai) (0.7.0+cu101)\n",
            "Requirement already satisfied: nvidia-ml-py3 in /usr/local/lib/python3.6/dist-packages (from fastai) (7.352.0)\n",
            "Requirement already satisfied: matplotlib in /usr/local/lib/python3.6/dist-packages (from fastai) (3.2.2)\n",
            "Requirement already satisfied: numexpr in /usr/local/lib/python3.6/dist-packages (from fastai) (2.7.1)\n",
            "Requirement already satisfied: bottleneck in /usr/local/lib/python3.6/dist-packages (from fastai) (1.3.2)\n",
            "Requirement already satisfied: certifi>=2017.4.17 in /usr/local/lib/python3.6/dist-packages (from requests->fastai) (2020.6.20)\n",
            "Requirement already satisfied: urllib3!=1.25.0,!=1.25.1,<1.26,>=1.21.1 in /usr/local/lib/python3.6/dist-packages (from requests->fastai) (1.24.3)\n",
            "Requirement already satisfied: idna<3,>=2.5 in /usr/local/lib/python3.6/dist-packages (from requests->fastai) (2.10)\n",
            "Requirement already satisfied: chardet<4,>=3.0.2 in /usr/local/lib/python3.6/dist-packages (from requests->fastai) (3.0.4)\n",
            "Requirement already satisfied: cymem<2.1.0,>=2.0.2 in /usr/local/lib/python3.6/dist-packages (from spacy>=2.0.18; python_version < \"3.8\"->fastai) (2.0.3)\n",
            "Requirement already satisfied: plac<1.2.0,>=0.9.6 in /usr/local/lib/python3.6/dist-packages (from spacy>=2.0.18; python_version < \"3.8\"->fastai) (1.1.3)\n",
            "Requirement already satisfied: blis<0.5.0,>=0.4.0 in /usr/local/lib/python3.6/dist-packages (from spacy>=2.0.18; python_version < \"3.8\"->fastai) (0.4.1)\n",
            "Requirement already satisfied: preshed<3.1.0,>=3.0.2 in /usr/local/lib/python3.6/dist-packages (from spacy>=2.0.18; python_version < \"3.8\"->fastai) (3.0.2)\n",
            "Requirement already satisfied: murmurhash<1.1.0,>=0.28.0 in /usr/local/lib/python3.6/dist-packages (from spacy>=2.0.18; python_version < \"3.8\"->fastai) (1.0.2)\n",
            "Requirement already satisfied: wasabi<1.1.0,>=0.4.0 in /usr/local/lib/python3.6/dist-packages (from spacy>=2.0.18; python_version < \"3.8\"->fastai) (0.8.0)\n",
            "Requirement already satisfied: catalogue<1.1.0,>=0.0.7 in /usr/local/lib/python3.6/dist-packages (from spacy>=2.0.18; python_version < \"3.8\"->fastai) (1.0.0)\n",
            "Requirement already satisfied: tqdm<5.0.0,>=4.38.0 in /usr/local/lib/python3.6/dist-packages (from spacy>=2.0.18; python_version < \"3.8\"->fastai) (4.41.1)\n",
            "Requirement already satisfied: setuptools in /usr/local/lib/python3.6/dist-packages (from spacy>=2.0.18; python_version < \"3.8\"->fastai) (50.3.2)\n",
            "Requirement already satisfied: srsly<1.1.0,>=1.0.2 in /usr/local/lib/python3.6/dist-packages (from spacy>=2.0.18; python_version < \"3.8\"->fastai) (1.0.2)\n",
            "Requirement already satisfied: thinc==7.4.0 in /usr/local/lib/python3.6/dist-packages (from spacy>=2.0.18; python_version < \"3.8\"->fastai) (7.4.0)\n",
            "Requirement already satisfied: pyparsing>=2.0.2 in /usr/local/lib/python3.6/dist-packages (from packaging->fastai) (2.4.7)\n",
            "Requirement already satisfied: six in /usr/local/lib/python3.6/dist-packages (from packaging->fastai) (1.15.0)\n",
            "Requirement already satisfied: pytz>=2017.2 in /usr/local/lib/python3.6/dist-packages (from pandas->fastai) (2018.9)\n",
            "Requirement already satisfied: python-dateutil>=2.7.3 in /usr/local/lib/python3.6/dist-packages (from pandas->fastai) (2.8.1)\n",
            "Requirement already satisfied: future in /usr/local/lib/python3.6/dist-packages (from torch>=1.0.0->fastai) (0.16.0)\n",
            "Requirement already satisfied: cycler>=0.10 in /usr/local/lib/python3.6/dist-packages (from matplotlib->fastai) (0.10.0)\n",
            "Requirement already satisfied: kiwisolver>=1.0.1 in /usr/local/lib/python3.6/dist-packages (from matplotlib->fastai) (1.2.0)\n",
            "Requirement already satisfied: importlib-metadata>=0.20; python_version < \"3.8\" in /usr/local/lib/python3.6/dist-packages (from catalogue<1.1.0,>=0.0.7->spacy>=2.0.18; python_version < \"3.8\"->fastai) (2.0.0)\n",
            "Requirement already satisfied: zipp>=0.5 in /usr/local/lib/python3.6/dist-packages (from importlib-metadata>=0.20; python_version < \"3.8\"->catalogue<1.1.0,>=0.0.7->spacy>=2.0.18; python_version < \"3.8\"->fastai) (3.3.1)\n"
          ],
          "name": "stdout"
        }
      ]
    },
    {
      "cell_type": "code",
      "metadata": {
        "id": "s-IoFz-eU2-D",
        "outputId": "070acecb-38f3-492e-e3d0-5c8dc7d54e9a",
        "colab": {
          "base_uri": "https://localhost:8080/",
          "height": 119
        }
      },
      "source": [
        "import pandas as pd\n",
        "import csv\n",
        "import os\n",
        "from keras.preprocessing.text import text_to_word_sequence\n",
        "import pandas as pd\n",
        "import tensorflow as tf\n",
        "from keras.preprocessing.text import Tokenizer\n",
        "import numpy as np\n",
        "from keras.preprocessing import sequence\n",
        "from io import StringIO\n",
        "import nltk \n",
        "from nltk.corpus import stopwords\n",
        "import re\n",
        "from nltk.tokenize import word_tokenize\n",
        "from nltk.stem import WordNetLemmatizer,PorterStemmer\n",
        "\n",
        "from sklearn.feature_extraction.text import CountVectorizer, TfidfVectorizer \n",
        "from sklearn.model_selection import train_test_split\n",
        "\n",
        "from keras.preprocessing import sequence\n",
        "from keras.models import Sequential\n",
        "from keras.layers import Dense, Dropout, Activation\n",
        "from keras.layers import Embedding\n",
        "from keras.layers import Conv1D, GlobalMaxPooling1D,MaxPooling1D, Bidirectional,LSTM, SpatialDropout1D\n",
        "\n",
        "nltk.download('stopwords')\n",
        "nltk.download('punkt')\n",
        "nltk.download('wordnet')\n",
        "\n",
        "import fastai\n",
        "from fastai import *\n",
        "from fastai.text import * \n",
        "import pandas as pd\n",
        "import numpy as np\n",
        "from functools import partial\n",
        "import io\n",
        "import os"
      ],
      "execution_count": 3,
      "outputs": [
        {
          "output_type": "stream",
          "text": [
            "[nltk_data] Downloading package stopwords to /root/nltk_data...\n",
            "[nltk_data]   Unzipping corpora/stopwords.zip.\n",
            "[nltk_data] Downloading package punkt to /root/nltk_data...\n",
            "[nltk_data]   Unzipping tokenizers/punkt.zip.\n",
            "[nltk_data] Downloading package wordnet to /root/nltk_data...\n",
            "[nltk_data]   Unzipping corpora/wordnet.zip.\n"
          ],
          "name": "stdout"
        }
      ]
    },
    {
      "cell_type": "code",
      "metadata": {
        "id": "zagWmetyVyLM",
        "outputId": "5d2f34bd-6cc9-41fa-e83f-e27b8e55d0f3",
        "colab": {
          "base_uri": "https://localhost:8080/",
          "height": 221
        }
      },
      "source": [
        "#Load the data csv from google drive\n",
        "review_data = pd.read_csv('/content/tripadvisor_hotel_reviews.csv')\n",
        "print(review_data.shape)\n",
        "review_data.head()"
      ],
      "execution_count": 4,
      "outputs": [
        {
          "output_type": "stream",
          "text": [
            "(20491, 2)\n"
          ],
          "name": "stdout"
        },
        {
          "output_type": "execute_result",
          "data": {
            "text/html": [
              "<div>\n",
              "<style scoped>\n",
              "    .dataframe tbody tr th:only-of-type {\n",
              "        vertical-align: middle;\n",
              "    }\n",
              "\n",
              "    .dataframe tbody tr th {\n",
              "        vertical-align: top;\n",
              "    }\n",
              "\n",
              "    .dataframe thead th {\n",
              "        text-align: right;\n",
              "    }\n",
              "</style>\n",
              "<table border=\"1\" class=\"dataframe\">\n",
              "  <thead>\n",
              "    <tr style=\"text-align: right;\">\n",
              "      <th></th>\n",
              "      <th>Review</th>\n",
              "      <th>Rating</th>\n",
              "    </tr>\n",
              "  </thead>\n",
              "  <tbody>\n",
              "    <tr>\n",
              "      <th>0</th>\n",
              "      <td>nice hotel expensive parking got good deal sta...</td>\n",
              "      <td>4</td>\n",
              "    </tr>\n",
              "    <tr>\n",
              "      <th>1</th>\n",
              "      <td>ok nothing special charge diamond member hilto...</td>\n",
              "      <td>2</td>\n",
              "    </tr>\n",
              "    <tr>\n",
              "      <th>2</th>\n",
              "      <td>nice rooms not 4* experience hotel monaco seat...</td>\n",
              "      <td>3</td>\n",
              "    </tr>\n",
              "    <tr>\n",
              "      <th>3</th>\n",
              "      <td>unique, great stay, wonderful time hotel monac...</td>\n",
              "      <td>5</td>\n",
              "    </tr>\n",
              "    <tr>\n",
              "      <th>4</th>\n",
              "      <td>great stay great stay, went seahawk game aweso...</td>\n",
              "      <td>5</td>\n",
              "    </tr>\n",
              "  </tbody>\n",
              "</table>\n",
              "</div>"
            ],
            "text/plain": [
              "                                              Review  Rating\n",
              "0  nice hotel expensive parking got good deal sta...       4\n",
              "1  ok nothing special charge diamond member hilto...       2\n",
              "2  nice rooms not 4* experience hotel monaco seat...       3\n",
              "3  unique, great stay, wonderful time hotel monac...       5\n",
              "4  great stay great stay, went seahawk game aweso...       5"
            ]
          },
          "metadata": {
            "tags": []
          },
          "execution_count": 4
        }
      ]
    },
    {
      "cell_type": "code",
      "metadata": {
        "id": "Whx4WlEaV2yZ",
        "outputId": "fb9186c8-d0ff-488d-f6b8-177b7683103e",
        "colab": {
          "base_uri": "https://localhost:8080/",
          "height": 51
        }
      },
      "source": [
        "review_data['Review'].replace(' ', np.nan, inplace=True)\n",
        "print(review_data['Review'].isnull().sum())\n",
        "review_data['Rating'].replace(' ', np.nan, inplace=True)\n",
        "print(review_data['Rating'].isnull().sum())"
      ],
      "execution_count": 5,
      "outputs": [
        {
          "output_type": "stream",
          "text": [
            "0\n",
            "0\n"
          ],
          "name": "stdout"
        }
      ]
    },
    {
      "cell_type": "code",
      "metadata": {
        "id": "bd2dpEBoV64V",
        "outputId": "b7671dda-331e-4d65-a803-8685331e57a3",
        "colab": {
          "base_uri": "https://localhost:8080/",
          "height": 170
        }
      },
      "source": [
        "review_data.info()"
      ],
      "execution_count": 6,
      "outputs": [
        {
          "output_type": "stream",
          "text": [
            "<class 'pandas.core.frame.DataFrame'>\n",
            "RangeIndex: 20491 entries, 0 to 20490\n",
            "Data columns (total 2 columns):\n",
            " #   Column  Non-Null Count  Dtype \n",
            "---  ------  --------------  ----- \n",
            " 0   Review  20491 non-null  object\n",
            " 1   Rating  20491 non-null  int64 \n",
            "dtypes: int64(1), object(1)\n",
            "memory usage: 320.3+ KB\n"
          ],
          "name": "stdout"
        }
      ]
    },
    {
      "cell_type": "code",
      "metadata": {
        "id": "XbJOEnMxM807",
        "outputId": "89ebb310-30e6-4c4c-b69a-dad7504be266",
        "colab": {
          "base_uri": "https://localhost:8080/",
          "height": 221
        }
      },
      "source": [
        "review_data['Review']"
      ],
      "execution_count": 7,
      "outputs": [
        {
          "output_type": "execute_result",
          "data": {
            "text/plain": [
              "0        nice hotel expensive parking got good deal sta...\n",
              "1        ok nothing special charge diamond member hilto...\n",
              "2        nice rooms not 4* experience hotel monaco seat...\n",
              "3        unique, great stay, wonderful time hotel monac...\n",
              "4        great stay great stay, went seahawk game aweso...\n",
              "                               ...                        \n",
              "20486    best kept secret 3rd time staying charm, not 5...\n",
              "20487    great location price view hotel great quick pl...\n",
              "20488    ok just looks nice modern outside, desk staff ...\n",
              "20489    hotel theft ruined vacation hotel opened sept ...\n",
              "20490    people talking, ca n't believe excellent ratin...\n",
              "Name: Review, Length: 20491, dtype: object"
            ]
          },
          "metadata": {
            "tags": []
          },
          "execution_count": 7
        }
      ]
    },
    {
      "cell_type": "code",
      "metadata": {
        "id": "wJTfsKPTY0cB",
        "outputId": "2c6e2634-2bf6-42f0-ae34-e9d0b41f53b6",
        "colab": {
          "base_uri": "https://localhost:8080/",
          "height": 419
        }
      },
      "source": [
        "review_data = review_data[['Rating', 'Review']]\n",
        "review_data"
      ],
      "execution_count": 8,
      "outputs": [
        {
          "output_type": "execute_result",
          "data": {
            "text/html": [
              "<div>\n",
              "<style scoped>\n",
              "    .dataframe tbody tr th:only-of-type {\n",
              "        vertical-align: middle;\n",
              "    }\n",
              "\n",
              "    .dataframe tbody tr th {\n",
              "        vertical-align: top;\n",
              "    }\n",
              "\n",
              "    .dataframe thead th {\n",
              "        text-align: right;\n",
              "    }\n",
              "</style>\n",
              "<table border=\"1\" class=\"dataframe\">\n",
              "  <thead>\n",
              "    <tr style=\"text-align: right;\">\n",
              "      <th></th>\n",
              "      <th>Rating</th>\n",
              "      <th>Review</th>\n",
              "    </tr>\n",
              "  </thead>\n",
              "  <tbody>\n",
              "    <tr>\n",
              "      <th>0</th>\n",
              "      <td>4</td>\n",
              "      <td>nice hotel expensive parking got good deal sta...</td>\n",
              "    </tr>\n",
              "    <tr>\n",
              "      <th>1</th>\n",
              "      <td>2</td>\n",
              "      <td>ok nothing special charge diamond member hilto...</td>\n",
              "    </tr>\n",
              "    <tr>\n",
              "      <th>2</th>\n",
              "      <td>3</td>\n",
              "      <td>nice rooms not 4* experience hotel monaco seat...</td>\n",
              "    </tr>\n",
              "    <tr>\n",
              "      <th>3</th>\n",
              "      <td>5</td>\n",
              "      <td>unique, great stay, wonderful time hotel monac...</td>\n",
              "    </tr>\n",
              "    <tr>\n",
              "      <th>4</th>\n",
              "      <td>5</td>\n",
              "      <td>great stay great stay, went seahawk game aweso...</td>\n",
              "    </tr>\n",
              "    <tr>\n",
              "      <th>...</th>\n",
              "      <td>...</td>\n",
              "      <td>...</td>\n",
              "    </tr>\n",
              "    <tr>\n",
              "      <th>20486</th>\n",
              "      <td>5</td>\n",
              "      <td>best kept secret 3rd time staying charm, not 5...</td>\n",
              "    </tr>\n",
              "    <tr>\n",
              "      <th>20487</th>\n",
              "      <td>4</td>\n",
              "      <td>great location price view hotel great quick pl...</td>\n",
              "    </tr>\n",
              "    <tr>\n",
              "      <th>20488</th>\n",
              "      <td>2</td>\n",
              "      <td>ok just looks nice modern outside, desk staff ...</td>\n",
              "    </tr>\n",
              "    <tr>\n",
              "      <th>20489</th>\n",
              "      <td>1</td>\n",
              "      <td>hotel theft ruined vacation hotel opened sept ...</td>\n",
              "    </tr>\n",
              "    <tr>\n",
              "      <th>20490</th>\n",
              "      <td>2</td>\n",
              "      <td>people talking, ca n't believe excellent ratin...</td>\n",
              "    </tr>\n",
              "  </tbody>\n",
              "</table>\n",
              "<p>20491 rows × 2 columns</p>\n",
              "</div>"
            ],
            "text/plain": [
              "       Rating                                             Review\n",
              "0           4  nice hotel expensive parking got good deal sta...\n",
              "1           2  ok nothing special charge diamond member hilto...\n",
              "2           3  nice rooms not 4* experience hotel monaco seat...\n",
              "3           5  unique, great stay, wonderful time hotel monac...\n",
              "4           5  great stay great stay, went seahawk game aweso...\n",
              "...       ...                                                ...\n",
              "20486       5  best kept secret 3rd time staying charm, not 5...\n",
              "20487       4  great location price view hotel great quick pl...\n",
              "20488       2  ok just looks nice modern outside, desk staff ...\n",
              "20489       1  hotel theft ruined vacation hotel opened sept ...\n",
              "20490       2  people talking, ca n't believe excellent ratin...\n",
              "\n",
              "[20491 rows x 2 columns]"
            ]
          },
          "metadata": {
            "tags": []
          },
          "execution_count": 8
        }
      ]
    },
    {
      "cell_type": "markdown",
      "metadata": {
        "id": "oHSPcR9tL2-2"
      },
      "source": [
        "Data Preprocessing"
      ]
    },
    {
      "cell_type": "code",
      "metadata": {
        "id": "N4lEMZhRWFK_"
      },
      "source": [
        "df_trn, df_val = train_test_split(review_data, stratify = review_data['Rating'], test_size = 0.2, random_state = 12)"
      ],
      "execution_count": 9,
      "outputs": []
    },
    {
      "cell_type": "code",
      "metadata": {
        "id": "eSFohGwyaK14",
        "outputId": "765aab59-4df6-4804-f922-e1baa564752a",
        "colab": {
          "base_uri": "https://localhost:8080/",
          "height": 34
        }
      },
      "source": [
        "print(df_trn.shape, df_val.shape)"
      ],
      "execution_count": 10,
      "outputs": [
        {
          "output_type": "stream",
          "text": [
            "(16392, 2) (4099, 2)\n"
          ],
          "name": "stdout"
        }
      ]
    },
    {
      "cell_type": "code",
      "metadata": {
        "id": "M0Rg4CdjS4XF",
        "outputId": "ac581435-7201-4c28-c9fd-4599c6abf6a4",
        "colab": {
          "base_uri": "https://localhost:8080/",
          "height": 419
        }
      },
      "source": [
        "df_trn"
      ],
      "execution_count": 11,
      "outputs": [
        {
          "output_type": "execute_result",
          "data": {
            "text/html": [
              "<div>\n",
              "<style scoped>\n",
              "    .dataframe tbody tr th:only-of-type {\n",
              "        vertical-align: middle;\n",
              "    }\n",
              "\n",
              "    .dataframe tbody tr th {\n",
              "        vertical-align: top;\n",
              "    }\n",
              "\n",
              "    .dataframe thead th {\n",
              "        text-align: right;\n",
              "    }\n",
              "</style>\n",
              "<table border=\"1\" class=\"dataframe\">\n",
              "  <thead>\n",
              "    <tr style=\"text-align: right;\">\n",
              "      <th></th>\n",
              "      <th>Rating</th>\n",
              "      <th>Review</th>\n",
              "    </tr>\n",
              "  </thead>\n",
              "  <tbody>\n",
              "    <tr>\n",
              "      <th>4641</th>\n",
              "      <td>2</td>\n",
              "      <td>nice food nice service shame tatty rooms, disa...</td>\n",
              "    </tr>\n",
              "    <tr>\n",
              "      <th>10913</th>\n",
              "      <td>5</td>\n",
              "      <td>fantastic hotel, fantastic hotel just returned...</td>\n",
              "    </tr>\n",
              "    <tr>\n",
              "      <th>1030</th>\n",
              "      <td>5</td>\n",
              "      <td>great boutique hotel enjoyed 4 nights kensingt...</td>\n",
              "    </tr>\n",
              "    <tr>\n",
              "      <th>18633</th>\n",
              "      <td>4</td>\n",
              "      <td>wonderful place married vacation, recently ret...</td>\n",
              "    </tr>\n",
              "    <tr>\n",
              "      <th>10691</th>\n",
              "      <td>4</td>\n",
              "      <td>good location bigger rooms spacious nice, quie...</td>\n",
              "    </tr>\n",
              "    <tr>\n",
              "      <th>...</th>\n",
              "      <td>...</td>\n",
              "      <td>...</td>\n",
              "    </tr>\n",
              "    <tr>\n",
              "      <th>2578</th>\n",
              "      <td>4</td>\n",
              "      <td>days el conquistador lovely resort things, day...</td>\n",
              "    </tr>\n",
              "    <tr>\n",
              "      <th>13910</th>\n",
              "      <td>2</td>\n",
              "      <td>value money scale worst hotel stayed high end ...</td>\n",
              "    </tr>\n",
              "    <tr>\n",
              "      <th>13016</th>\n",
              "      <td>5</td>\n",
              "      <td>loved spent weeks sirenis cocotal resort domin...</td>\n",
              "    </tr>\n",
              "    <tr>\n",
              "      <th>14609</th>\n",
              "      <td>3</td>\n",
              "      <td>good location new carpets stayed july 2008. st...</td>\n",
              "    </tr>\n",
              "    <tr>\n",
              "      <th>18815</th>\n",
              "      <td>4</td>\n",
              "      <td>loved buy vacation club, just returned staying...</td>\n",
              "    </tr>\n",
              "  </tbody>\n",
              "</table>\n",
              "<p>16392 rows × 2 columns</p>\n",
              "</div>"
            ],
            "text/plain": [
              "       Rating                                             Review\n",
              "4641        2  nice food nice service shame tatty rooms, disa...\n",
              "10913       5  fantastic hotel, fantastic hotel just returned...\n",
              "1030        5  great boutique hotel enjoyed 4 nights kensingt...\n",
              "18633       4  wonderful place married vacation, recently ret...\n",
              "10691       4  good location bigger rooms spacious nice, quie...\n",
              "...       ...                                                ...\n",
              "2578        4  days el conquistador lovely resort things, day...\n",
              "13910       2  value money scale worst hotel stayed high end ...\n",
              "13016       5  loved spent weeks sirenis cocotal resort domin...\n",
              "14609       3  good location new carpets stayed july 2008. st...\n",
              "18815       4  loved buy vacation club, just returned staying...\n",
              "\n",
              "[16392 rows x 2 columns]"
            ]
          },
          "metadata": {
            "tags": []
          },
          "execution_count": 11
        }
      ]
    },
    {
      "cell_type": "markdown",
      "metadata": {
        "id": "7v6-O01CdBeM"
      },
      "source": [
        "Language Model"
      ]
    },
    {
      "cell_type": "code",
      "metadata": {
        "id": "nr8uZWERaO6f",
        "outputId": "57e654a1-57fd-459e-90a6-215847cbc525",
        "colab": {
          "base_uri": "https://localhost:8080/",
          "height": 17
        }
      },
      "source": [
        "# Language model data\n",
        "data_lm = TextLMDataBunch.from_df(train_df = df_trn, valid_df = df_val, path = \"\")\n",
        "\n",
        "# Classifier model data\n",
        "#data_clas = TextClasDataBunch.from_df(train_df = df_trn, valid_df = df_val, vocab=data_lm.train_ds.vocab, bs=32, data_lm.save('tmp_lm')"
      ],
      "execution_count": 12,
      "outputs": [
        {
          "output_type": "display_data",
          "data": {
            "text/html": [
              ""
            ],
            "text/plain": [
              "<IPython.core.display.HTML object>"
            ]
          },
          "metadata": {
            "tags": []
          }
        },
        {
          "output_type": "display_data",
          "data": {
            "text/html": [
              ""
            ],
            "text/plain": [
              "<IPython.core.display.HTML object>"
            ]
          },
          "metadata": {
            "tags": []
          }
        }
      ]
    },
    {
      "cell_type": "code",
      "metadata": {
        "id": "C8wR_qJkTBXd",
        "outputId": "83a2f516-24b4-48e1-9811-e6965ef44765",
        "colab": {
          "base_uri": "https://localhost:8080/",
          "height": 391
        }
      },
      "source": [
        "data_lm.show_batch()"
      ],
      "execution_count": 13,
      "outputs": [
        {
          "output_type": "display_data",
          "data": {
            "text/html": [
              "<table border=\"1\" class=\"dataframe\">\n",
              "  <thead>\n",
              "    <tr style=\"text-align: right;\">\n",
              "      <th>idx</th>\n",
              "      <th>text</th>\n",
              "    </tr>\n",
              "  </thead>\n",
              "  <tbody>\n",
              "    <tr>\n",
              "      <td>0</td>\n",
              "      <td>, not expect paying odds got apples bottle looked like tap water small chocolates food restaurant divine hugely expensive definitely odds expect pay 150 euros not meal , decor restaurant bar reception area faultless slightly xxunk atmosphere hotel bit thing morning breakfast not necessarily relaxing experiences , real lack facilities terms spa pool told dealing xxunk probably not stay afraid , understand change management hotel called dylan likely improve things</td>\n",
              "    </tr>\n",
              "    <tr>\n",
              "      <td>1</td>\n",
              "      <td>room , extremely large room 3 beds large bedroom double bed new bathroom , ceilings high beautiful old fresco paintings , furnishings lovely , complaint street noise morning noticable facing suite double windows , a / c worked , owner gassim extremely friendly helpful really fussed guests , family nice breakfast great espresso machine use , clean internet free , location convenient walking florence exception bus piazza michaelangelo fantastic views</td>\n",
              "    </tr>\n",
              "    <tr>\n",
              "      <td>2</td>\n",
              "      <td>pool areas beautiful large hot tubs plenty space enjoy privacy water warm clean , husband golfed faldo course great experience , did n't opportunity eat resort did advantage nearby restaurants , great shooping nearby , loved resort ca n't wait return , xxbos rated husband travelled quite extensively caribbean , time say resort definately not worthy 4 star rating , grounds nice kept tidy , hotel tired , supposed king</td>\n",
              "    </tr>\n",
              "    <tr>\n",
              "      <td>3</td>\n",
              "      <td>fabulous historic hotel modern amenities superb service , really enjoyed stay fairmont , xxbos moaning , stayed hotel visit barcelona.the location superb , ca nt better location.the hotel clean tidy , basic fairly xxunk good i m going xxunk hotel want hassle free stay xxunk fine ignore moaning , hotel great value money , xxbos dreams punta cana entertainment entertainment excellent , cast performers wonderful , singers dancers terrific ,</td>\n",
              "    </tr>\n",
              "    <tr>\n",
              "      <td>4</td>\n",
              "      <td>yum , valet parking pricey parking sydney dear , hotel room tastefully decorated modern style , room light dimmers romantic large showers / bath , loved pillow menu , definately stay , xxbos fantastic hotel english - speakers great location great choice mid - level hotel beijing , rooms clean bathrooms really nice , want explore city use room showering sleeping place , staff extremely friendly helpful , not people</td>\n",
              "    </tr>\n",
              "  </tbody>\n",
              "</table>"
            ],
            "text/plain": [
              "<IPython.core.display.HTML object>"
            ]
          },
          "metadata": {
            "tags": []
          }
        }
      ]
    },
    {
      "cell_type": "code",
      "metadata": {
        "id": "OAQxdchzK0WL"
      },
      "source": [
        "data_lm.save('tmp_lm')"
      ],
      "execution_count": 14,
      "outputs": []
    },
    {
      "cell_type": "code",
      "metadata": {
        "id": "yV56XMDc5ERH",
        "outputId": "c4cb0333-85ad-4176-dec1-48e22818f553",
        "colab": {
          "base_uri": "https://localhost:8080/",
          "height": 34
        }
      },
      "source": [
        "learn = language_model_learner(data_lm,arch = AWD_LSTM,  drop_mult=0.2)"
      ],
      "execution_count": 15,
      "outputs": [
        {
          "output_type": "stream",
          "text": [
            "Downloading https://s3.amazonaws.com/fast-ai-modelzoo/wt103-fwd.tgz\n"
          ],
          "name": "stdout"
        },
        {
          "output_type": "display_data",
          "data": {
            "text/html": [
              ""
            ],
            "text/plain": [
              "<IPython.core.display.HTML object>"
            ]
          },
          "metadata": {
            "tags": []
          }
        }
      ]
    },
    {
      "cell_type": "code",
      "metadata": {
        "id": "EzGwSb5w3nBu",
        "outputId": "81f7aa1e-c885-4d9b-8709-5ccd4ac76df3",
        "colab": {
          "base_uri": "https://localhost:8080/",
          "height": 408
        }
      },
      "source": [
        "learn.lr_find()\n",
        "learn.recorder.plot(suggestion = True)\n",
        "min_grad_lr = learn.recorder.min_grad_lr"
      ],
      "execution_count": 16,
      "outputs": [
        {
          "output_type": "display_data",
          "data": {
            "text/html": [
              "\n",
              "    <div>\n",
              "        <style>\n",
              "            /* Turns off some styling */\n",
              "            progress {\n",
              "                /* gets rid of default border in Firefox and Opera. */\n",
              "                border: none;\n",
              "                /* Needs to be in here for Safari polyfill so background images work as expected. */\n",
              "                background-size: auto;\n",
              "            }\n",
              "            .progress-bar-interrupted, .progress-bar-interrupted::-webkit-progress-bar {\n",
              "                background: #F44336;\n",
              "            }\n",
              "        </style>\n",
              "      <progress value='0' class='' max='1' style='width:300px; height:20px; vertical-align: middle;'></progress>\n",
              "      0.00% [0/1 00:00<00:00]\n",
              "    </div>\n",
              "    \n",
              "<table border=\"1\" class=\"dataframe\">\n",
              "  <thead>\n",
              "    <tr style=\"text-align: left;\">\n",
              "      <th>epoch</th>\n",
              "      <th>train_loss</th>\n",
              "      <th>valid_loss</th>\n",
              "      <th>accuracy</th>\n",
              "      <th>time</th>\n",
              "    </tr>\n",
              "  </thead>\n",
              "  <tbody>\n",
              "  </tbody>\n",
              "</table><p>\n",
              "\n",
              "    <div>\n",
              "        <style>\n",
              "            /* Turns off some styling */\n",
              "            progress {\n",
              "                /* gets rid of default border in Firefox and Opera. */\n",
              "                border: none;\n",
              "                /* Needs to be in here for Safari polyfill so background images work as expected. */\n",
              "                background-size: auto;\n",
              "            }\n",
              "            .progress-bar-interrupted, .progress-bar-interrupted::-webkit-progress-bar {\n",
              "                background: #F44336;\n",
              "            }\n",
              "        </style>\n",
              "      <progress value='99' class='' max='440' style='width:300px; height:20px; vertical-align: middle;'></progress>\n",
              "      22.50% [99/440 00:23<01:21 13.2442]\n",
              "    </div>\n",
              "    "
            ],
            "text/plain": [
              "<IPython.core.display.HTML object>"
            ]
          },
          "metadata": {
            "tags": []
          }
        },
        {
          "output_type": "stream",
          "text": [
            "LR Finder is complete, type {learner_name}.recorder.plot() to see the graph.\n",
            "Min numerical gradient: 1.58E-02\n",
            "Min loss divided by 10: 4.37E-02\n"
          ],
          "name": "stdout"
        },
        {
          "output_type": "display_data",
          "data": {
            "image/png": "[encoded data removed]",
            "text/plain": [
              "<Figure size 432x288 with 1 Axes>"
            ]
          },
          "metadata": {
            "tags": [],
            "needs_background": "light"
          }
        }
      ]
    },
    {
      "cell_type": "code",
      "metadata": {
        "id": "FS8rJ38bc2AS",
        "outputId": "590a045f-a541-4666-d269-ac798eb8fcc1",
        "colab": {
          "base_uri": "https://localhost:8080/",
          "height": 142
        }
      },
      "source": [
        "learn.fit_one_cycle(3,min_grad_lr)"
      ],
      "execution_count": 17,
      "outputs": [
        {
          "output_type": "display_data",
          "data": {
            "text/html": [
              "<table border=\"1\" class=\"dataframe\">\n",
              "  <thead>\n",
              "    <tr style=\"text-align: left;\">\n",
              "      <th>epoch</th>\n",
              "      <th>train_loss</th>\n",
              "      <th>valid_loss</th>\n",
              "      <th>accuracy</th>\n",
              "      <th>time</th>\n",
              "    </tr>\n",
              "  </thead>\n",
              "  <tbody>\n",
              "    <tr>\n",
              "      <td>0</td>\n",
              "      <td>6.041275</td>\n",
              "      <td>5.863979</td>\n",
              "      <td>0.162893</td>\n",
              "      <td>02:10</td>\n",
              "    </tr>\n",
              "    <tr>\n",
              "      <td>1</td>\n",
              "      <td>5.715822</td>\n",
              "      <td>5.693713</td>\n",
              "      <td>0.172132</td>\n",
              "      <td>02:13</td>\n",
              "    </tr>\n",
              "    <tr>\n",
              "      <td>2</td>\n",
              "      <td>5.297459</td>\n",
              "      <td>5.639596</td>\n",
              "      <td>0.175849</td>\n",
              "      <td>02:14</td>\n",
              "    </tr>\n",
              "  </tbody>\n",
              "</table>"
            ],
            "text/plain": [
              "<IPython.core.display.HTML object>"
            ]
          },
          "metadata": {
            "tags": []
          }
        }
      ]
    },
    {
      "cell_type": "code",
      "metadata": {
        "id": "uxW7POuxRc9Z"
      },
      "source": [
        ""
      ],
      "execution_count": 17,
      "outputs": []
    },
    {
      "cell_type": "markdown",
      "metadata": {
        "id": "r214WVG5dfIk"
      },
      "source": [
        "Fine tune the language model"
      ]
    },
    {
      "cell_type": "code",
      "metadata": {
        "id": "VTwbOR3UdhPs",
        "outputId": "8be08f7b-c5bc-42c8-9288-c70cbc8d83e9",
        "colab": {
          "base_uri": "https://localhost:8080/",
          "height": 142
        }
      },
      "source": [
        "learn.unfreeze()\n",
        "learn.fit_one_cycle(3, 1e-3)"
      ],
      "execution_count": 18,
      "outputs": [
        {
          "output_type": "display_data",
          "data": {
            "text/html": [
              "<table border=\"1\" class=\"dataframe\">\n",
              "  <thead>\n",
              "    <tr style=\"text-align: left;\">\n",
              "      <th>epoch</th>\n",
              "      <th>train_loss</th>\n",
              "      <th>valid_loss</th>\n",
              "      <th>accuracy</th>\n",
              "      <th>time</th>\n",
              "    </tr>\n",
              "  </thead>\n",
              "  <tbody>\n",
              "    <tr>\n",
              "      <td>0</td>\n",
              "      <td>5.110915</td>\n",
              "      <td>5.558740</td>\n",
              "      <td>0.182131</td>\n",
              "      <td>02:39</td>\n",
              "    </tr>\n",
              "    <tr>\n",
              "      <td>1</td>\n",
              "      <td>4.943082</td>\n",
              "      <td>5.526165</td>\n",
              "      <td>0.185531</td>\n",
              "      <td>02:39</td>\n",
              "    </tr>\n",
              "    <tr>\n",
              "      <td>2</td>\n",
              "      <td>4.640637</td>\n",
              "      <td>5.589995</td>\n",
              "      <td>0.183538</td>\n",
              "      <td>02:39</td>\n",
              "    </tr>\n",
              "  </tbody>\n",
              "</table>"
            ],
            "text/plain": [
              "<IPython.core.display.HTML object>"
            ]
          },
          "metadata": {
            "tags": []
          }
        }
      ]
    },
    {
      "cell_type": "code",
      "metadata": {
        "id": "bqRhRj4KeEkb",
        "outputId": "7e3e88b4-17b6-471f-9b8c-926da3bb35bd",
        "colab": {
          "base_uri": "https://localhost:8080/",
          "height": 35
        }
      },
      "source": [
        "learn.predict('room is', n_words=5)"
      ],
      "execution_count": 19,
      "outputs": [
        {
          "output_type": "execute_result",
          "data": {
            "application/vnd.google.colaboratory.intrinsic+json": {
              "type": "string"
            },
            "text/plain": [
              "'room is nt special came hotel i'"
            ]
          },
          "metadata": {
            "tags": []
          },
          "execution_count": 19
        }
      ]
    },
    {
      "cell_type": "markdown",
      "metadata": {
        "id": "uI4NqvGXeB6S"
      },
      "source": [
        ""
      ]
    },
    {
      "cell_type": "code",
      "metadata": {
        "id": "lI4SbXQ86uYN"
      },
      "source": [
        "learn.save_encoder('fine_enc')\n",
        "#learn.load_encoder('ft_enc')"
      ],
      "execution_count": 20,
      "outputs": []
    },
    {
      "cell_type": "markdown",
      "metadata": {
        "id": "Q_As4NQCB08j"
      },
      "source": [
        "Creating the classifier"
      ]
    },
    {
      "cell_type": "code",
      "metadata": {
        "id": "genhJJelB0rr",
        "outputId": "61cca3f7-d96b-4825-dd01-aa12c222e686",
        "colab": {
          "base_uri": "https://localhost:8080/",
          "height": 17
        }
      },
      "source": [
        "# Classifier model data\n",
        "data_clas = TextClasDataBunch.from_df('./', train_df=df_trn, valid_df=df_val, vocab=data_lm.train_ds.vocab, bs=32)"
      ],
      "execution_count": 21,
      "outputs": [
        {
          "output_type": "display_data",
          "data": {
            "text/html": [
              ""
            ],
            "text/plain": [
              "<IPython.core.display.HTML object>"
            ]
          },
          "metadata": {
            "tags": []
          }
        },
        {
          "output_type": "display_data",
          "data": {
            "text/html": [
              ""
            ],
            "text/plain": [
              "<IPython.core.display.HTML object>"
            ]
          },
          "metadata": {
            "tags": []
          }
        }
      ]
    },
    {
      "cell_type": "code",
      "metadata": {
        "id": "rWhcvX3aCgie",
        "outputId": "c91e7eb0-ec43-415b-c0be-a6ddf0bb9e1c",
        "colab": {
          "base_uri": "https://localhost:8080/",
          "height": 1000
        }
      },
      "source": [
        "# Classifier\n",
        "classifier = text_classifier_learner(data_clas, drop_mult=0.3, arch=AWD_LSTM)\n",
        "classifier.load_encoder('fine_enc')"
      ],
      "execution_count": 22,
      "outputs": [
        {
          "output_type": "execute_result",
          "data": {
            "text/plain": [
              "RNNLearner(data=TextClasDataBunch;\n",
              "\n",
              "Train: LabelList (16392 items)\n",
              "x: TextList\n",
              "xxbos nice food nice service shame tatty rooms , disappointment , having familiar xxunk london stayed five - star hotels europe expecting lot , friendly staff welcoming lovely ginger lemongrass concoction slightly downhill , room superficially nice need redecoration paint coming furnishings looked worn closer xxunk no choice pillows feather not ideal suffer allergies , offered choice pillows star hotels past , nothing complimentary hotel mini - bar price tag , not expect paying odds got apples bottle looked like tap water small chocolates food restaurant divine hugely expensive definitely odds expect pay 150 euros not meal , decor restaurant bar reception area faultless slightly xxunk atmosphere hotel bit thing morning breakfast not necessarily relaxing experiences , real lack facilities terms spa pool told dealing xxunk probably not stay afraid , understand change management hotel called dylan likely improve things ,,xxbos fantastic hotel , fantastic hotel just returned weekend hotel great , ideally placed , closest metro alma marceau , having stayed george v crillon previously hotel best definitely staying time paris ,,xxbos great boutique hotel enjoyed 4 nights kensington park hotel , staff not make stay comfortable pleasant , location excellent room charming , sherry tea offered guests foyer afternoon nice touch.we definitely returning ,,xxbos wonderful place married vacation , recently returned weeks punta cana having spent getting married majestic second honeymoon secrets xxunk majestic try brief resort beautiful taken care large , walk lobby / restaurants beach certain rooms long , not problem us.2 rooms- amazing , glass shower washroom doors frosted not big deal regards privacy , ask person balcony minutes regards sounds showers huge great pressure wonderful jacuzzi tub great too.3 room- think room xxunk absolutely perfect , ocean view second floor ideal , xxunk started larger suite located near lobby requested smaller room beach xxunk food- loved buffet steakhouse grilled shrimp , vegetarian no difficulty finding good variety food , people group did not great experiences restaurants , liked buffet variety lacking ambiance dinners breakfast lunch dinner great , food luke warm n't issue , lunch great beach buffet xxunk pool- incredible , clean good temperature fun place hang xxunk gym - not lot people write husband training working weight training good facility important difficult info hand , gym okay - decent free weights hand weights bench press , decent weight machines work outdated not useful , lots mats balls xxunk treadmills xxunk great shape fairly new , warm inside despite air conditioning , great tunes usually going t.v , screens no clock , limited ourself hour day guess time , trainer n't ask spots - he did n't know meant , decent week struggled xxunk xxunk short highly recommend getting married , aurelio accomodating really did n't bug know lot couples , wedding beach private unfortunately windy night unusual , recommend beach gazebo caribbean , wedding time 6 pm started later judge d.r , running slightly late , wedding pictures taken dark - not ideal turned okay , warning brides - if plan salon hair make sure trial run , despite having pictures hairstylist mess hair literally run rooms towels head hour wedding wash , stressful , special touches majestic provided wedding flower petals room special bath bath towel swans breakfast xxunk day special dinner night wonderful extras really feel special , wedding dinner table cake beautifully done.i recommend majestic heartbeat , definitely returning punta cana someday possibly year anniversary hard decide majestic secrets excellence ,,xxbos good location bigger rooms spacious nice , quiet xxunk quaint street half block buildings representing different european style , big vondel park real close leidsplein restaurants , hoist bags tram easy minute walk stop xxunk breakfast , friendly lady working day shift , petty crime warning come group eyes open odd street urchin trying advantage door confusion making handbag wallet heed warning vondelpark ,\n",
              "y: CategoryList\n",
              "2,5,5,4,4\n",
              "Path: .;\n",
              "\n",
              "Valid: LabelList (4099 items)\n",
              "x: TextList\n",
              "xxbos no hot water bravo beach okay , not island stay , beach rocky xxunk not blue , wanted love hotel , liked decor aveda products 300 plus night did n't xxunk , told desk immediately did n't , send repairman informed xxunk heaters suck nothing , spent entire time hot shower , not cool , food restaurant super expensive , did n't type discount inconvenience no hot water , asked did not receive , n't stay , recommend stay island ,,xxbos live hotel , wow , let begin saying expected good not good turned , happily xxunk booked king xxunk suite acutally better view bay bridge water , valet professional nice , check quick actually checked 7 pm saturday night , anna desk nice , americano happening corporate types xxunk room , wow , mentioned online reservations anniversary weekend boyfriend i. placed rose petals shape heart xxunk complimentary bottle champagne ice bucket champagne flutes table anniversary card cd playing electronica relaxing kind beautifully lit xxunk table , did n't cost extra , complimentary , loved , awesome staff.we dinner reservations foreign cinema asked taxi , actually shuttle car site , cost 20 excluding tip , better cab want save cash not going date , case date went lincoln shuttle car xxunk came dinner actually quite hungry , tasty yes foreign cinema serves small portions went downstairs americano , unfortuantely stop serving food 11 pm , xxunk xxunk really cool person , took drinks outside small table near heating lamp enjoyed ambiance embarcadero xxunk returned room 1 little hungry , apparently guests ordering pizza pizza delivery man going fourth floor floor delivering food.we glad ordered cable car pizza , pretty darn good food delivering 1 am , good tiramisu too.we drank champagne beautiful rainfall shower xxunk n't negative hear people halls , muffled , heard sneeze , did n't care heard , oh , lol sugar fresh products good , smells light xxunk love love love pillows , calling hotel kind buy morning discovery channel xxunk bike race outside window embarcadero , watched getting ready day , people crowded taking pictures xxunk getting autographs , cool thing see.it check time unfortunately , anna desk offered hold bags til got shopping city checked , able leave car valet til 5 pm not problem.i definitely , definitely , great staff chic modern relaxing decor great services great view , loved place start finish ,,xxbos 3rd time choice , time time stayed zero actually booked hotel travel department company , hotel lost reservation , weekend st . xxunk _ day not time looking hotel , hotel called xxunk verified not did rooms discount price , finally got settled excellent room service midnight came home night soft jazz playing cd player , great experience convenient downtown activities , let concierge decide seafood restaurant eat night tell best night spots , great picks time ,,xxbos fabulous experience worth rave reviews , just returned states spending trip venice staying quaint hotel , say pictures website hold true facilities , room stayed charming , small exceptionally furnished comfortable , bathroom impeccable , hotel hosts 6 rooms quite new , room lacks size xxunk attention location cleanliness class , stephan exceptional host , restaurant excellent , just steps away san marco square waterbus stop , definitely recommend , worth euros ,,xxbos not bad budget hotel stayed october 2004 . room small 2 people average service staff , upgraded deluxe room inter connecting door xxunk noise door , deluxe room exactly size interior dark wood not beech , xxunk supposed classier need not bothered , looked worse porter helpfully informed rooms size apart form suites xxunk bar xxunk upstairs service amateur expensive , xxunk restaurant lovely chinese restaurant did not serve pork highly xxunk guests 20 , disadvantage taxi drivers did not know hotel tucked away small xxunk internet available central library road local laundry alleyway just hotel , v cheap quick warned tumble dry , cafe coral cheap eat corner xxunk secure good rate avoid rooms interconnecting doors , no point booking deluxe room ,\n",
              "y: CategoryList\n",
              "3,5,5,5,3\n",
              "Path: .;\n",
              "\n",
              "Test: None, model=SequentialRNN(\n",
              "  (0): MultiBatchEncoder(\n",
              "    (module): AWD_LSTM(\n",
              "      (encoder): Embedding(26568, 400, padding_idx=1)\n",
              "      (encoder_dp): EmbeddingDropout(\n",
              "        (emb): Embedding(26568, 400, padding_idx=1)\n",
              "      )\n",
              "      (rnns): ModuleList(\n",
              "        (0): WeightDropout(\n",
              "          (module): LSTM(400, 1152, batch_first=True)\n",
              "        )\n",
              "        (1): WeightDropout(\n",
              "          (module): LSTM(1152, 1152, batch_first=True)\n",
              "        )\n",
              "        (2): WeightDropout(\n",
              "          (module): LSTM(1152, 400, batch_first=True)\n",
              "        )\n",
              "      )\n",
              "      (input_dp): RNNDropout()\n",
              "      (hidden_dps): ModuleList(\n",
              "        (0): RNNDropout()\n",
              "        (1): RNNDropout()\n",
              "        (2): RNNDropout()\n",
              "      )\n",
              "    )\n",
              "  )\n",
              "  (1): PoolingLinearClassifier(\n",
              "    (layers): Sequential(\n",
              "      (0): BatchNorm1d(1200, eps=1e-05, momentum=0.1, affine=True, track_running_stats=True)\n",
              "      (1): Dropout(p=0.12, inplace=False)\n",
              "      (2): Linear(in_features=1200, out_features=50, bias=True)\n",
              "      (3): ReLU(inplace=True)\n",
              "      (4): BatchNorm1d(50, eps=1e-05, momentum=0.1, affine=True, track_running_stats=True)\n",
              "      (5): Dropout(p=0.1, inplace=False)\n",
              "      (6): Linear(in_features=50, out_features=5, bias=True)\n",
              "    )\n",
              "  )\n",
              "), opt_func=functools.partial(<class 'torch.optim.adam.Adam'>, betas=(0.9, 0.99)), loss_func=FlattenedLoss of CrossEntropyLoss(), metrics=[<function accuracy at 0x7f22c423e598>], true_wd=True, bn_wd=True, wd=0.01, train_bn=True, path=PosixPath('.'), model_dir='models', callback_fns=[functools.partial(<class 'fastai.basic_train.Recorder'>, add_time=True, silent=False)], callbacks=[RNNTrainer\n",
              "learn: RNNLearner(data=TextClasDataBunch;\n",
              "\n",
              "Train: LabelList (16392 items)\n",
              "x: TextList\n",
              "xxbos nice food nice service shame tatty rooms , disappointment , having familiar xxunk london stayed five - star hotels europe expecting lot , friendly staff welcoming lovely ginger lemongrass concoction slightly downhill , room superficially nice need redecoration paint coming furnishings looked worn closer xxunk no choice pillows feather not ideal suffer allergies , offered choice pillows star hotels past , nothing complimentary hotel mini - bar price tag , not expect paying odds got apples bottle looked like tap water small chocolates food restaurant divine hugely expensive definitely odds expect pay 150 euros not meal , decor restaurant bar reception area faultless slightly xxunk atmosphere hotel bit thing morning breakfast not necessarily relaxing experiences , real lack facilities terms spa pool told dealing xxunk probably not stay afraid , understand change management hotel called dylan likely improve things ,,xxbos fantastic hotel , fantastic hotel just returned weekend hotel great , ideally placed , closest metro alma marceau , having stayed george v crillon previously hotel best definitely staying time paris ,,xxbos great boutique hotel enjoyed 4 nights kensington park hotel , staff not make stay comfortable pleasant , location excellent room charming , sherry tea offered guests foyer afternoon nice touch.we definitely returning ,,xxbos wonderful place married vacation , recently returned weeks punta cana having spent getting married majestic second honeymoon secrets xxunk majestic try brief resort beautiful taken care large , walk lobby / restaurants beach certain rooms long , not problem us.2 rooms- amazing , glass shower washroom doors frosted not big deal regards privacy , ask person balcony minutes regards sounds showers huge great pressure wonderful jacuzzi tub great too.3 room- think room xxunk absolutely perfect , ocean view second floor ideal , xxunk started larger suite located near lobby requested smaller room beach xxunk food- loved buffet steakhouse grilled shrimp , vegetarian no difficulty finding good variety food , people group did not great experiences restaurants , liked buffet variety lacking ambiance dinners breakfast lunch dinner great , food luke warm n't issue , lunch great beach buffet xxunk pool- incredible , clean good temperature fun place hang xxunk gym - not lot people write husband training working weight training good facility important difficult info hand , gym okay - decent free weights hand weights bench press , decent weight machines work outdated not useful , lots mats balls xxunk treadmills xxunk great shape fairly new , warm inside despite air conditioning , great tunes usually going t.v , screens no clock , limited ourself hour day guess time , trainer n't ask spots - he did n't know meant , decent week struggled xxunk xxunk short highly recommend getting married , aurelio accomodating really did n't bug know lot couples , wedding beach private unfortunately windy night unusual , recommend beach gazebo caribbean , wedding time 6 pm started later judge d.r , running slightly late , wedding pictures taken dark - not ideal turned okay , warning brides - if plan salon hair make sure trial run , despite having pictures hairstylist mess hair literally run rooms towels head hour wedding wash , stressful , special touches majestic provided wedding flower petals room special bath bath towel swans breakfast xxunk day special dinner night wonderful extras really feel special , wedding dinner table cake beautifully done.i recommend majestic heartbeat , definitely returning punta cana someday possibly year anniversary hard decide majestic secrets excellence ,,xxbos good location bigger rooms spacious nice , quiet xxunk quaint street half block buildings representing different european style , big vondel park real close leidsplein restaurants , hoist bags tram easy minute walk stop xxunk breakfast , friendly lady working day shift , petty crime warning come group eyes open odd street urchin trying advantage door confusion making handbag wallet heed warning vondelpark ,\n",
              "y: CategoryList\n",
              "2,5,5,4,4\n",
              "Path: .;\n",
              "\n",
              "Valid: LabelList (4099 items)\n",
              "x: TextList\n",
              "xxbos no hot water bravo beach okay , not island stay , beach rocky xxunk not blue , wanted love hotel , liked decor aveda products 300 plus night did n't xxunk , told desk immediately did n't , send repairman informed xxunk heaters suck nothing , spent entire time hot shower , not cool , food restaurant super expensive , did n't type discount inconvenience no hot water , asked did not receive , n't stay , recommend stay island ,,xxbos live hotel , wow , let begin saying expected good not good turned , happily xxunk booked king xxunk suite acutally better view bay bridge water , valet professional nice , check quick actually checked 7 pm saturday night , anna desk nice , americano happening corporate types xxunk room , wow , mentioned online reservations anniversary weekend boyfriend i. placed rose petals shape heart xxunk complimentary bottle champagne ice bucket champagne flutes table anniversary card cd playing electronica relaxing kind beautifully lit xxunk table , did n't cost extra , complimentary , loved , awesome staff.we dinner reservations foreign cinema asked taxi , actually shuttle car site , cost 20 excluding tip , better cab want save cash not going date , case date went lincoln shuttle car xxunk came dinner actually quite hungry , tasty yes foreign cinema serves small portions went downstairs americano , unfortuantely stop serving food 11 pm , xxunk xxunk really cool person , took drinks outside small table near heating lamp enjoyed ambiance embarcadero xxunk returned room 1 little hungry , apparently guests ordering pizza pizza delivery man going fourth floor floor delivering food.we glad ordered cable car pizza , pretty darn good food delivering 1 am , good tiramisu too.we drank champagne beautiful rainfall shower xxunk n't negative hear people halls , muffled , heard sneeze , did n't care heard , oh , lol sugar fresh products good , smells light xxunk love love love pillows , calling hotel kind buy morning discovery channel xxunk bike race outside window embarcadero , watched getting ready day , people crowded taking pictures xxunk getting autographs , cool thing see.it check time unfortunately , anna desk offered hold bags til got shopping city checked , able leave car valet til 5 pm not problem.i definitely , definitely , great staff chic modern relaxing decor great services great view , loved place start finish ,,xxbos 3rd time choice , time time stayed zero actually booked hotel travel department company , hotel lost reservation , weekend st . xxunk _ day not time looking hotel , hotel called xxunk verified not did rooms discount price , finally got settled excellent room service midnight came home night soft jazz playing cd player , great experience convenient downtown activities , let concierge decide seafood restaurant eat night tell best night spots , great picks time ,,xxbos fabulous experience worth rave reviews , just returned states spending trip venice staying quaint hotel , say pictures website hold true facilities , room stayed charming , small exceptionally furnished comfortable , bathroom impeccable , hotel hosts 6 rooms quite new , room lacks size xxunk attention location cleanliness class , stephan exceptional host , restaurant excellent , just steps away san marco square waterbus stop , definitely recommend , worth euros ,,xxbos not bad budget hotel stayed october 2004 . room small 2 people average service staff , upgraded deluxe room inter connecting door xxunk noise door , deluxe room exactly size interior dark wood not beech , xxunk supposed classier need not bothered , looked worse porter helpfully informed rooms size apart form suites xxunk bar xxunk upstairs service amateur expensive , xxunk restaurant lovely chinese restaurant did not serve pork highly xxunk guests 20 , disadvantage taxi drivers did not know hotel tucked away small xxunk internet available central library road local laundry alleyway just hotel , v cheap quick warned tumble dry , cafe coral cheap eat corner xxunk secure good rate avoid rooms interconnecting doors , no point booking deluxe room ,\n",
              "y: CategoryList\n",
              "3,5,5,5,3\n",
              "Path: .;\n",
              "\n",
              "Test: None, model=SequentialRNN(\n",
              "  (0): MultiBatchEncoder(\n",
              "    (module): AWD_LSTM(\n",
              "      (encoder): Embedding(26568, 400, padding_idx=1)\n",
              "      (encoder_dp): EmbeddingDropout(\n",
              "        (emb): Embedding(26568, 400, padding_idx=1)\n",
              "      )\n",
              "      (rnns): ModuleList(\n",
              "        (0): WeightDropout(\n",
              "          (module): LSTM(400, 1152, batch_first=True)\n",
              "        )\n",
              "        (1): WeightDropout(\n",
              "          (module): LSTM(1152, 1152, batch_first=True)\n",
              "        )\n",
              "        (2): WeightDropout(\n",
              "          (module): LSTM(1152, 400, batch_first=True)\n",
              "        )\n",
              "      )\n",
              "      (input_dp): RNNDropout()\n",
              "      (hidden_dps): ModuleList(\n",
              "        (0): RNNDropout()\n",
              "        (1): RNNDropout()\n",
              "        (2): RNNDropout()\n",
              "      )\n",
              "    )\n",
              "  )\n",
              "  (1): PoolingLinearClassifier(\n",
              "    (layers): Sequential(\n",
              "      (0): BatchNorm1d(1200, eps=1e-05, momentum=0.1, affine=True, track_running_stats=True)\n",
              "      (1): Dropout(p=0.12, inplace=False)\n",
              "      (2): Linear(in_features=1200, out_features=50, bias=True)\n",
              "      (3): ReLU(inplace=True)\n",
              "      (4): BatchNorm1d(50, eps=1e-05, momentum=0.1, affine=True, track_running_stats=True)\n",
              "      (5): Dropout(p=0.1, inplace=False)\n",
              "      (6): Linear(in_features=50, out_features=5, bias=True)\n",
              "    )\n",
              "  )\n",
              "), opt_func=functools.partial(<class 'torch.optim.adam.Adam'>, betas=(0.9, 0.99)), loss_func=FlattenedLoss of CrossEntropyLoss(), metrics=[<function accuracy at 0x7f22c423e598>], true_wd=True, bn_wd=True, wd=0.01, train_bn=True, path=PosixPath('.'), model_dir='models', callback_fns=[functools.partial(<class 'fastai.basic_train.Recorder'>, add_time=True, silent=False)], callbacks=[...], layer_groups=[Sequential(\n",
              "  (0): Embedding(26568, 400, padding_idx=1)\n",
              "  (1): EmbeddingDropout(\n",
              "    (emb): Embedding(26568, 400, padding_idx=1)\n",
              "  )\n",
              "), Sequential(\n",
              "  (0): WeightDropout(\n",
              "    (module): LSTM(400, 1152, batch_first=True)\n",
              "  )\n",
              "  (1): RNNDropout()\n",
              "), Sequential(\n",
              "  (0): WeightDropout(\n",
              "    (module): LSTM(1152, 1152, batch_first=True)\n",
              "  )\n",
              "  (1): RNNDropout()\n",
              "), Sequential(\n",
              "  (0): WeightDropout(\n",
              "    (module): LSTM(1152, 400, batch_first=True)\n",
              "  )\n",
              "  (1): RNNDropout()\n",
              "), Sequential(\n",
              "  (0): PoolingLinearClassifier(\n",
              "    (layers): Sequential(\n",
              "      (0): BatchNorm1d(1200, eps=1e-05, momentum=0.1, affine=True, track_running_stats=True)\n",
              "      (1): Dropout(p=0.12, inplace=False)\n",
              "      (2): Linear(in_features=1200, out_features=50, bias=True)\n",
              "      (3): ReLU(inplace=True)\n",
              "      (4): BatchNorm1d(50, eps=1e-05, momentum=0.1, affine=True, track_running_stats=True)\n",
              "      (5): Dropout(p=0.1, inplace=False)\n",
              "      (6): Linear(in_features=50, out_features=5, bias=True)\n",
              "    )\n",
              "  )\n",
              ")], add_time=True, silent=False)\n",
              "alpha: 2.0\n",
              "beta: 1.0], layer_groups=[Sequential(\n",
              "  (0): Embedding(26568, 400, padding_idx=1)\n",
              "  (1): EmbeddingDropout(\n",
              "    (emb): Embedding(26568, 400, padding_idx=1)\n",
              "  )\n",
              "), Sequential(\n",
              "  (0): WeightDropout(\n",
              "    (module): LSTM(400, 1152, batch_first=True)\n",
              "  )\n",
              "  (1): RNNDropout()\n",
              "), Sequential(\n",
              "  (0): WeightDropout(\n",
              "    (module): LSTM(1152, 1152, batch_first=True)\n",
              "  )\n",
              "  (1): RNNDropout()\n",
              "), Sequential(\n",
              "  (0): WeightDropout(\n",
              "    (module): LSTM(1152, 400, batch_first=True)\n",
              "  )\n",
              "  (1): RNNDropout()\n",
              "), Sequential(\n",
              "  (0): PoolingLinearClassifier(\n",
              "    (layers): Sequential(\n",
              "      (0): BatchNorm1d(1200, eps=1e-05, momentum=0.1, affine=True, track_running_stats=True)\n",
              "      (1): Dropout(p=0.12, inplace=False)\n",
              "      (2): Linear(in_features=1200, out_features=50, bias=True)\n",
              "      (3): ReLU(inplace=True)\n",
              "      (4): BatchNorm1d(50, eps=1e-05, momentum=0.1, affine=True, track_running_stats=True)\n",
              "      (5): Dropout(p=0.1, inplace=False)\n",
              "      (6): Linear(in_features=50, out_features=5, bias=True)\n",
              "    )\n",
              "  )\n",
              ")], add_time=True, silent=False)"
            ]
          },
          "metadata": {
            "tags": []
          },
          "execution_count": 22
        }
      ]
    },
    {
      "cell_type": "code",
      "metadata": {
        "id": "aUUs3XUlC4ra",
        "outputId": "ea0859a6-0b87-4d5f-a667-4e7fd113f2e1",
        "colab": {
          "base_uri": "https://localhost:8080/",
          "height": 408
        }
      },
      "source": [
        "classifier.lr_find()\n",
        "classifier.recorder.plot(suggestion = True)\n",
        "min_grad_lr1 = classifier.recorder.min_grad_lr"
      ],
      "execution_count": 23,
      "outputs": [
        {
          "output_type": "display_data",
          "data": {
            "text/html": [
              "\n",
              "    <div>\n",
              "        <style>\n",
              "            /* Turns off some styling */\n",
              "            progress {\n",
              "                /* gets rid of default border in Firefox and Opera. */\n",
              "                border: none;\n",
              "                /* Needs to be in here for Safari polyfill so background images work as expected. */\n",
              "                background-size: auto;\n",
              "            }\n",
              "            .progress-bar-interrupted, .progress-bar-interrupted::-webkit-progress-bar {\n",
              "                background: #F44336;\n",
              "            }\n",
              "        </style>\n",
              "      <progress value='0' class='' max='1' style='width:300px; height:20px; vertical-align: middle;'></progress>\n",
              "      0.00% [0/1 00:00<00:00]\n",
              "    </div>\n",
              "    \n",
              "<table border=\"1\" class=\"dataframe\">\n",
              "  <thead>\n",
              "    <tr style=\"text-align: left;\">\n",
              "      <th>epoch</th>\n",
              "      <th>train_loss</th>\n",
              "      <th>valid_loss</th>\n",
              "      <th>accuracy</th>\n",
              "      <th>time</th>\n",
              "    </tr>\n",
              "  </thead>\n",
              "  <tbody>\n",
              "  </tbody>\n",
              "</table><p>\n",
              "\n",
              "    <div>\n",
              "        <style>\n",
              "            /* Turns off some styling */\n",
              "            progress {\n",
              "                /* gets rid of default border in Firefox and Opera. */\n",
              "                border: none;\n",
              "                /* Needs to be in here for Safari polyfill so background images work as expected. */\n",
              "                background-size: auto;\n",
              "            }\n",
              "            .progress-bar-interrupted, .progress-bar-interrupted::-webkit-progress-bar {\n",
              "                background: #F44336;\n",
              "            }\n",
              "        </style>\n",
              "      <progress value='94' class='' max='512' style='width:300px; height:20px; vertical-align: middle;'></progress>\n",
              "      18.36% [94/512 00:12<00:55 4.4549]\n",
              "    </div>\n",
              "    "
            ],
            "text/plain": [
              "<IPython.core.display.HTML object>"
            ]
          },
          "metadata": {
            "tags": []
          }
        },
        {
          "output_type": "stream",
          "text": [
            "LR Finder is complete, type {learner_name}.recorder.plot() to see the graph.\n",
            "Min numerical gradient: 6.92E-02\n",
            "Min loss divided by 10: 6.31E-02\n"
          ],
          "name": "stdout"
        },
        {
          "output_type": "display_data",
          "data": {
            "image/png": "[encoded data removed]",
            "text/plain": [
              "<Figure size 432x288 with 1 Axes>"
            ]
          },
          "metadata": {
            "tags": [],
            "needs_background": "light"
          }
        }
      ]
    },
    {
      "cell_type": "code",
      "metadata": {
        "id": "EXqL82TzCoif",
        "outputId": "de96daca-7e06-49b3-8ff1-46242bdb10e8",
        "colab": {
          "base_uri": "https://localhost:8080/",
          "height": 204
        }
      },
      "source": [
        "classifier.fit_one_cycle(5,min_grad_lr1)"
      ],
      "execution_count": 24,
      "outputs": [
        {
          "output_type": "display_data",
          "data": {
            "text/html": [
              "<table border=\"1\" class=\"dataframe\">\n",
              "  <thead>\n",
              "    <tr style=\"text-align: left;\">\n",
              "      <th>epoch</th>\n",
              "      <th>train_loss</th>\n",
              "      <th>valid_loss</th>\n",
              "      <th>accuracy</th>\n",
              "      <th>time</th>\n",
              "    </tr>\n",
              "  </thead>\n",
              "  <tbody>\n",
              "    <tr>\n",
              "      <td>0</td>\n",
              "      <td>1.034768</td>\n",
              "      <td>0.909079</td>\n",
              "      <td>0.582337</td>\n",
              "      <td>01:05</td>\n",
              "    </tr>\n",
              "    <tr>\n",
              "      <td>1</td>\n",
              "      <td>1.004970</td>\n",
              "      <td>0.965968</td>\n",
              "      <td>0.577458</td>\n",
              "      <td>00:55</td>\n",
              "    </tr>\n",
              "    <tr>\n",
              "      <td>2</td>\n",
              "      <td>0.979390</td>\n",
              "      <td>0.859070</td>\n",
              "      <td>0.621127</td>\n",
              "      <td>01:01</td>\n",
              "    </tr>\n",
              "    <tr>\n",
              "      <td>3</td>\n",
              "      <td>0.980222</td>\n",
              "      <td>1.123389</td>\n",
              "      <td>0.624543</td>\n",
              "      <td>01:04</td>\n",
              "    </tr>\n",
              "    <tr>\n",
              "      <td>4</td>\n",
              "      <td>0.942528</td>\n",
              "      <td>0.825808</td>\n",
              "      <td>0.632349</td>\n",
              "      <td>00:56</td>\n",
              "    </tr>\n",
              "  </tbody>\n",
              "</table>"
            ],
            "text/plain": [
              "<IPython.core.display.HTML object>"
            ]
          },
          "metadata": {
            "tags": []
          }
        }
      ]
    },
    {
      "cell_type": "markdown",
      "metadata": {
        "id": "hxoDUA7yRLVk"
      },
      "source": [
        "Fine tuning the classifier"
      ]
    },
    {
      "cell_type": "code",
      "metadata": {
        "id": "nzpXbCUMKcwI",
        "outputId": "50df8e0c-1255-404b-d6ff-21e9f6580a16",
        "colab": {
          "base_uri": "https://localhost:8080/",
          "height": 204
        }
      },
      "source": [
        "classifier.freeze_to(-2)\n",
        "classifier.fit_one_cycle(5,min_grad_lr1)"
      ],
      "execution_count": 25,
      "outputs": [
        {
          "output_type": "display_data",
          "data": {
            "text/html": [
              "<table border=\"1\" class=\"dataframe\">\n",
              "  <thead>\n",
              "    <tr style=\"text-align: left;\">\n",
              "      <th>epoch</th>\n",
              "      <th>train_loss</th>\n",
              "      <th>valid_loss</th>\n",
              "      <th>accuracy</th>\n",
              "      <th>time</th>\n",
              "    </tr>\n",
              "  </thead>\n",
              "  <tbody>\n",
              "    <tr>\n",
              "      <td>0</td>\n",
              "      <td>0.984988</td>\n",
              "      <td>0.968539</td>\n",
              "      <td>0.570139</td>\n",
              "      <td>01:07</td>\n",
              "    </tr>\n",
              "    <tr>\n",
              "      <td>1</td>\n",
              "      <td>1.062708</td>\n",
              "      <td>1.164754</td>\n",
              "      <td>0.496219</td>\n",
              "      <td>01:09</td>\n",
              "    </tr>\n",
              "    <tr>\n",
              "      <td>2</td>\n",
              "      <td>0.921634</td>\n",
              "      <td>1.537032</td>\n",
              "      <td>0.627714</td>\n",
              "      <td>01:04</td>\n",
              "    </tr>\n",
              "    <tr>\n",
              "      <td>3</td>\n",
              "      <td>0.912124</td>\n",
              "      <td>1.298050</td>\n",
              "      <td>0.642840</td>\n",
              "      <td>01:14</td>\n",
              "    </tr>\n",
              "    <tr>\n",
              "      <td>4</td>\n",
              "      <td>0.887154</td>\n",
              "      <td>4.127235</td>\n",
              "      <td>0.649183</td>\n",
              "      <td>01:13</td>\n",
              "    </tr>\n",
              "  </tbody>\n",
              "</table>"
            ],
            "text/plain": [
              "<IPython.core.display.HTML object>"
            ]
          },
          "metadata": {
            "tags": []
          }
        }
      ]
    },
    {
      "cell_type": "code",
      "metadata": {
        "id": "BRCZo8MWM4bC",
        "outputId": "5eaddd21-4297-446c-96c2-62b16be5beee",
        "colab": {
          "base_uri": "https://localhost:8080/",
          "height": 204
        }
      },
      "source": [
        "classifier.freeze_to(-2)\n",
        "classifier.fit_one_cycle(5, slice(5e-3, 2e-3), moms=(0.8,0.7))"
      ],
      "execution_count": 26,
      "outputs": [
        {
          "output_type": "display_data",
          "data": {
            "text/html": [
              "<table border=\"1\" class=\"dataframe\">\n",
              "  <thead>\n",
              "    <tr style=\"text-align: left;\">\n",
              "      <th>epoch</th>\n",
              "      <th>train_loss</th>\n",
              "      <th>valid_loss</th>\n",
              "      <th>accuracy</th>\n",
              "      <th>time</th>\n",
              "    </tr>\n",
              "  </thead>\n",
              "  <tbody>\n",
              "    <tr>\n",
              "      <td>0</td>\n",
              "      <td>0.892619</td>\n",
              "      <td>3.768545</td>\n",
              "      <td>0.644547</td>\n",
              "      <td>01:16</td>\n",
              "    </tr>\n",
              "    <tr>\n",
              "      <td>1</td>\n",
              "      <td>0.827313</td>\n",
              "      <td>1.421412</td>\n",
              "      <td>0.651866</td>\n",
              "      <td>01:18</td>\n",
              "    </tr>\n",
              "    <tr>\n",
              "      <td>2</td>\n",
              "      <td>0.858274</td>\n",
              "      <td>1.283587</td>\n",
              "      <td>0.654062</td>\n",
              "      <td>01:18</td>\n",
              "    </tr>\n",
              "    <tr>\n",
              "      <td>3</td>\n",
              "      <td>0.851497</td>\n",
              "      <td>2.045090</td>\n",
              "      <td>0.653086</td>\n",
              "      <td>01:18</td>\n",
              "    </tr>\n",
              "    <tr>\n",
              "      <td>4</td>\n",
              "      <td>0.847846</td>\n",
              "      <td>1.859637</td>\n",
              "      <td>0.655770</td>\n",
              "      <td>01:05</td>\n",
              "    </tr>\n",
              "  </tbody>\n",
              "</table>"
            ],
            "text/plain": [
              "<IPython.core.display.HTML object>"
            ]
          },
          "metadata": {
            "tags": []
          }
        }
      ]
    }
  ]
}